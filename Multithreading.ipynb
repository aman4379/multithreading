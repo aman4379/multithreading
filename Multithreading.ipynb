{
 "cells": [
  {
   "cell_type": "markdown",
   "id": "292c3e15-0138-4f32-8989-e473904f4ad5",
   "metadata": {},
   "source": [
    "Q1. What is multithreading in python? Why is it used? Name the module used to handle threads in python"
   ]
  },
  {
   "cell_type": "code",
   "execution_count": null,
   "id": "301ab670-8e3f-4d54-84b5-f18fd3c027cf",
   "metadata": {},
   "outputs": [],
   "source": [
    "Ans We can do multithreading in Python, that is, executing multiple parts of the program at a time using \n",
    "    the threading module. We can import this module by writing the below statement. import threading This \n",
    "    module has a higher class called the Thread (), which handles the execution of the program as a whole."
   ]
  },
  {
   "cell_type": "markdown",
   "id": "f4f2fb4d-414e-420f-9e87-97dc64a9d5af",
   "metadata": {},
   "source": [
    "Q2. Why threading module used? Write the use of the following functions\n",
    "1. activeCount()\n",
    "2. currentThread()\n",
    "3. enumerate()"
   ]
  },
  {
   "cell_type": "code",
   "execution_count": null,
   "id": "75396094-e5de-42af-a08a-b9787899caf9",
   "metadata": {},
   "outputs": [],
   "source": [
    "Ans They are perfectly befitted entities for modular programming as they provide easier data sharing as all\n",
    "    threads inside a process share similar address space and robust synchronization abilities such as \n",
    "    condition variables and mutexes.\n",
    "    The activeCount() method of thread class is used to return the number of active threads in the current \n",
    "    thread's thread group. The value returned is only an estimate because the number of threads may change \n",
    "    dynamically while this method traverses internal data structures.\n",
    "    The currentThread() method of thread class is used to return a reference to the currently executing \n",
    "    thread object.\n",
    "    Often, when dealing with iterators, we also get need to keep a count of iterations. Python eases the \n",
    "    programmers’ task by providing a built-in function enumerate() for this task. Enumerate() method adds a \n",
    "    counter to an iterable and returns it in a form of enumerating object. This enumerated object can then be used \n",
    "    directly for loops or converted into a list of tuples using the list() function."
   ]
  },
  {
   "cell_type": "markdown",
   "id": "5fb7c404-0181-4d72-a7a4-3940145f1584",
   "metadata": {},
   "source": [
    "Q3. Explain the following functions:\n",
    "\n",
    "   1.run() \n",
    "   2.start() \n",
    "   3.join() \n",
    "   4.isAlive() "
   ]
  },
  {
   "cell_type": "code",
   "execution_count": null,
   "id": "d3b6b055-1bdb-4bb6-b8b3-f2db30ff40ae",
   "metadata": {},
   "outputs": [],
   "source": [
    "Ans 1.run():-  The Thread.run() method is an inbuilt method of the Thread class of the threading module , it is \n",
    "            used to represent a thread's activity. It calls the method expressed as the target argument in the \n",
    "            Thread object along with the positional and keyword arguments taken from the args and kwargs arguments,\n",
    "            respectively. This method can also be overridden in the subclass\n",
    "    2.start():- The Thread.start() method is an inbuilt method of the Thread class of the threading module, it is \n",
    "            used to start a thread's activity. This method calls the run() method internally which then executes\n",
    "            the target method. This method must be called at most one time for one thread. If it is called more \n",
    "            than once, it raises a RuntimeError.\n",
    "    3.join():-  The Thread.join() method is an inbuilt method of the Thread class of the threading module. Whenever\n",
    "            this method is called for any Thread object, it blocks the calling thread till the time the thread \n",
    "            whose join() method is called terminates, either normally or through an unhandled exception.\n",
    "    4.isAlive():- Thread.is_alive () method is an inbuilt method of the Thread class of the threading module in \n",
    "            Python. It uses a Thread object, and checks whether that thread is alive or not, ie, it is still \n",
    "            running or not. This method returns True before the run () starts until just after the run () method is\n",
    "            executed."
   ]
  },
  {
   "cell_type": "markdown",
   "id": "c462bab5-95f5-4e28-b8ac-e36c3c4f7b22",
   "metadata": {},
   "source": [
    "Q4. Write a python program to create two threads. Thread one must print the list of squares and thread\n",
    "    two must print the list of cubes"
   ]
  },
  {
   "cell_type": "code",
   "execution_count": 1,
   "id": "4345207e-4cb9-42e7-8b83-fe25f50003ef",
   "metadata": {},
   "outputs": [],
   "source": [
    "import threading"
   ]
  },
  {
   "cell_type": "code",
   "execution_count": 19,
   "id": "b07beada-0b3f-4393-9f73-520928643897",
   "metadata": {},
   "outputs": [],
   "source": [
    "def squares(n):\n",
    "        print(n*n)"
   ]
  },
  {
   "cell_type": "code",
   "execution_count": 22,
   "id": "2ad0c280-cd4e-4c57-ad05-933b41738175",
   "metadata": {},
   "outputs": [],
   "source": [
    "def cubes(m):\n",
    "        print(m*m*m)"
   ]
  },
  {
   "cell_type": "code",
   "execution_count": 26,
   "id": "d1d91b4e-da3a-4461-8d7c-ddf43a2fd52a",
   "metadata": {},
   "outputs": [],
   "source": [
    "thread1 =[threading.Thread(target=squares,args=(n,))for n in range(9)]"
   ]
  },
  {
   "cell_type": "code",
   "execution_count": 27,
   "id": "67a8d1f8-6803-45de-905c-bb2799caca59",
   "metadata": {},
   "outputs": [
    {
     "name": "stdout",
     "output_type": "stream",
     "text": [
      "0\n",
      "1\n",
      "4\n",
      "9\n",
      "16\n",
      "25\n",
      "36\n",
      "49\n",
      "64\n"
     ]
    }
   ],
   "source": [
    "for t in thread1:\n",
    "    t.start()"
   ]
  },
  {
   "cell_type": "code",
   "execution_count": 24,
   "id": "eaecde2a-fb33-40fe-8056-8952b942f8f0",
   "metadata": {},
   "outputs": [],
   "source": [
    "thread2= [threading.Thread(target=cubes,args=(m,)) for m in range(6)]"
   ]
  },
  {
   "cell_type": "code",
   "execution_count": 25,
   "id": "4aefc701-bbe9-4587-9f86-58c7663d2fd5",
   "metadata": {},
   "outputs": [
    {
     "name": "stdout",
     "output_type": "stream",
     "text": [
      "0\n",
      "1\n",
      "8\n",
      "27\n",
      "64\n",
      "125\n"
     ]
    }
   ],
   "source": [
    "for t in thread2:\n",
    "    t.start()"
   ]
  },
  {
   "cell_type": "code",
   "execution_count": null,
   "id": "5825219f-6fdb-4ee0-b00c-a0c9adee61fa",
   "metadata": {},
   "outputs": [],
   "source": [
    "Q5. State advantages and disadvantages of multithreading."
   ]
  },
  {
   "cell_type": "code",
   "execution_count": null,
   "id": "1a44116e-2731-4358-87e5-c7e68f4477bb",
   "metadata": {},
   "outputs": [],
   "source": [
    "Ans Advantage :\n",
    "        improved throughput.\n",
    "        Simultaneous and fully symmetric use of multiple processors for computation and I/O.\n",
    "        Superior application responsiveness.\n",
    "        Improved server responsiveness.\n",
    "        Minimized system resource usage.\n",
    "        Program structure simplification.\n",
    "        Better communication.\n",
    "    Disadvantage:\n",
    "        With more threads, the code becomes difficult to debug and maintain.\n",
    "        Thread creation puts a load on the system in terms of memory and CPU resources.\n",
    "        We need to do exception handling inside the worker method as any unhandled exceptions can result in the\n",
    "        program crashing\n",
    "        "
   ]
  },
  {
   "cell_type": "code",
   "execution_count": null,
   "id": "57b506a8-7d86-452e-87bc-d4ada458fca6",
   "metadata": {},
   "outputs": [],
   "source": [
    "Q6. Explain deadlocks and race conditions."
   ]
  },
  {
   "cell_type": "code",
   "execution_count": null,
   "id": "90202e27-5726-4e20-938e-3d618b9f5597",
   "metadata": {},
   "outputs": [],
   "source": [
    "Ans Race condition: \n",
    "        A race condition occurs when two threads access a shared variable at the same time. The first thread reads\n",
    "        the variable, and the second thread reads the same value from the variable. Then the first thread and \n",
    "        second thread perform their operations on the value, and they race to see which thread can write the value \n",
    "        last to the shared variable. The value of the thread that writes its value last is preserved, because the \n",
    "        thread is writing over the value that the previous thread wrote.\n",
    "    Deadlock:\n",
    "        A deadlock is a concurrency failure mode where a process or processes wait for a condition that never \n",
    "        occurs.\n",
    "        The result is that the deadlock processes are unable to progress and the program is stuck or frozen and\n",
    "        must be terminated forcefully.\n",
    "        There are many ways in which you may encounter a deadlock in your concurrent program.\n",
    "        Deadlocks are not developed intentionally, instead, they are an unexpected side effect or bug in \n",
    "        concurrency programming"
   ]
  }
 ],
 "metadata": {
  "kernelspec": {
   "display_name": "Python 3 (ipykernel)",
   "language": "python",
   "name": "python3"
  },
  "language_info": {
   "codemirror_mode": {
    "name": "ipython",
    "version": 3
   },
   "file_extension": ".py",
   "mimetype": "text/x-python",
   "name": "python",
   "nbconvert_exporter": "python",
   "pygments_lexer": "ipython3",
   "version": "3.10.8"
  }
 },
 "nbformat": 4,
 "nbformat_minor": 5
}
